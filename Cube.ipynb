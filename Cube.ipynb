{
  "nbformat": 4,
  "nbformat_minor": 0,
  "metadata": {
    "colab": {
      "provenance": [],
      "authorship_tag": "ABX9TyMc4lAWoutbBfhrc7RQUdPT",
      "include_colab_link": true
    },
    "kernelspec": {
      "name": "python3",
      "display_name": "Python 3"
    },
    "language_info": {
      "name": "python"
    }
  },
  "cells": [
    {
      "cell_type": "markdown",
      "metadata": {
        "id": "view-in-github",
        "colab_type": "text"
      },
      "source": [
        "<a href=\"https://colab.research.google.com/github/efraimar/pandas_study/blob/main/Cube.ipynb\" target=\"_parent\"><img src=\"https://colab.research.google.com/assets/colab-badge.svg\" alt=\"Open In Colab\"/></a>"
      ]
    },
    {
      "cell_type": "markdown",
      "source": [
        "# New Section"
      ],
      "metadata": {
        "id": "X6PyNvU-Baqu"
      }
    },
    {
      "cell_type": "markdown",
      "source": [
        "# The Cube Project"
      ],
      "metadata": {
        "id": "DlL4QpjBBkL5"
      }
    },
    {
      "cell_type": "code",
      "execution_count": 21,
      "metadata": {
        "colab": {
          "base_uri": "https://localhost:8080/"
        },
        "id": "bEy4Z-vkBZjl",
        "outputId": "6eae20b5-18ca-4b2d-94a4-70db6d0ecb04"
      },
      "outputs": [
        {
          "output_type": "stream",
          "name": "stdout",
          "text": [
            "Orenge senter :\n",
            " [['o' 'o' 'o']\n",
            " ['o' 'o' 'o']\n",
            " ['o' 'o' 'o']]\n",
            "\n",
            "Orenge senter; U:\n",
            " [['g' 'g' 'g']\n",
            " ['o' 'o' 'o']\n",
            " ['o' 'o' 'o']]\n",
            "\n",
            "Orenge senter; U --> R:\n",
            " [['g' 'g' 'y']\n",
            " ['o' 'o' 'y']\n",
            " ['o' 'o' 'y']]\n",
            "\n",
            "Orenge senter; U --> R --> L:\n",
            " [['y' 'g' 'y']\n",
            " ['y' 'o' 'y']\n",
            " ['y' 'o' 'y']]\n",
            "\n",
            "Orenge senter; U --> R --> L --> D:\n",
            " [['y' 'g' 'y']\n",
            " ['y' 'o' 'y']\n",
            " ['g' 'g' 'r']]\n",
            "\n"
          ]
        }
      ],
      "source": [
        "from re import A\n",
        "import numpy as np\n",
        "\n",
        "class Cube:\n",
        "    def __init__(self):\n",
        "        self.colors = [\"w\", \"y\", \"g\", \"b\", \"o\", \"r\"]\n",
        "        self.opposite_faces = {\"w\": \"y\", \"y\": \"w\", \"g\": \"b\", \"b\": \"g\", \"o\": \"r\", \"r\": \"o\"}\n",
        "        self.NT = {\n",
        "            \"w\": [\"g\", \"o\", \"b\", \"r\"],\n",
        "            \"y\": [\"g\", \"o\", \"b\", \"r\"],\n",
        "            \"g\": [\"w\", \"o\", \"y\", \"r\"],\n",
        "            \"b\": [\"w\", \"o\", \"y\", \"r\"],\n",
        "            \"o\": [\"w\", \"g\", \"y\", \"b\"],\n",
        "            \"r\": [\"w\", \"g\", \"y\", \"b\"]\n",
        "        }\n",
        "\n",
        "        self.front = \"o\"\n",
        "        self.back = \"r\"\n",
        "        self.left = \"b\"\n",
        "        self.right = \"g\"\n",
        "        self.up = \"w\"\n",
        "        self.down = \"y\"\n",
        "\n",
        "        self.w_senter = np.array([[\"w\", \"w\", \"w\"], [\"w\", \"w\", \"w\"], [\"w\", \"w\", \"w\"]])\n",
        "        self.g_senter = np.array([[\"g\", \"g\", \"g\"], [\"g\", \"g\", \"g\"], [\"g\", \"g\", \"g\"]])\n",
        "        self.o_senter = np.array([[\"o\", \"o\", \"o\"], [\"o\", \"o\", \"o\"], [\"o\", \"o\", \"o\"]])\n",
        "        self.b_senter = np.array([[\"b\", \"b\", \"b\"], [\"b\", \"b\", \"b\"], [\"b\", \"b\", \"b\"]])\n",
        "        self.r_senter = np.array([[\"r\", \"r\", \"r\"], [\"r\", \"r\", \"r\"], [\"r\", \"r\", \"r\"]])\n",
        "        self.y_senter = np.array([[\"y\", \"y\", \"y\"], [\"y\", \"y\", \"y\"], [\"y\", \"y\", \"y\"]])\n",
        "\n",
        "        self.cube = {\n",
        "            \"w\": self.w_senter,\n",
        "            \"g\": self.g_senter,\n",
        "            \"o\": self.o_senter,\n",
        "            \"b\": self.b_senter,\n",
        "            \"r\": self.r_senter,\n",
        "            \"y\": self.y_senter\n",
        "        }\n",
        "\n",
        "    def Position(self, color_front, color_up, color_right):\n",
        "          self.front = color_front\n",
        "          self.up = color_up\n",
        "          self.right = color_right\n",
        "          self.down = self.opposite_faces[self.up]\n",
        "          self.back = self.opposite_faces[self.front]\n",
        "          self.left = self.opposite_faces[self.right]\n",
        "\n",
        "          return\n",
        "\n",
        "    def R_rotation(self):\n",
        "\n",
        "        # self.Position(\"o\", \"w\", \"g\")  Default option\n",
        "        self.cube[self.right] = np.rot90(self.cube[self.right], k=-1)\n",
        "        A_cell, B_cell, C_cell = self.cube[self.front][:, 2].copy()\n",
        "        self.cube[self.front][:, 2] = self.cube[self.down][:, 2].copy()\n",
        "        self.cube[self.down][:, 2] = self.cube[self.back][:, 2].copy()\n",
        "        self.cube[self.back][:, 2] = self.cube[self.up][:, 2].copy()\n",
        "        self.cube[self.up][:, 2] = [A_cell, B_cell, C_cell].copy()\n",
        "        return self.cube\n",
        "\n",
        "\n",
        "    def L_rotation(self):\n",
        "        self.Position(\"o\", \"w\", \"g\")\n",
        "        self.cube[self.left] = np.rot90(self.cube[self.left], k=-1)\n",
        "        A_cell, B_cell, C_cell = self.cube[self.front][:,0].copy()\n",
        "        self.cube[self.front][:,0] = self.cube[self.down][:,0].copy()\n",
        "        self.cube[self.down][:,0] = self.cube[self.back][:,0].copy()\n",
        "        self.cube[self.back][:,0] = self.cube[self.up][:,0].copy()\n",
        "        self.cube[self.up][:,0] = [A_cell, B_cell, C_cell].copy()\n",
        "        return self.cube\n",
        "\n",
        "    def U_rotation(self):\n",
        "        self.Position(\"o\", \"w\", \"g\")\n",
        "        self.cube[self.up] = np.rot90(self.cube[self.up], k=-1)\n",
        "        cell = self.cube[self.front][0]\n",
        "        self.cube[self.front][0] = self.cube[self.right][0]\n",
        "        self.cube[self.right][0] = self.cube[self.back][0]\n",
        "        self.cube[self.back][0] = self.cube[self.left][0]\n",
        "        return self.cube\n",
        "\n",
        "    def D_rotation(self):\n",
        "        self.Position(\"o\", \"w\", \"g\")\n",
        "        self.cube[self.down] = np.rot90(self.cube[self.down], k=-1)\n",
        "        cell = self.cube[self.front][2]\n",
        "        self.cube[self.front][2] = self.cube[self.right][2]\n",
        "        self.cube[self.right][2] = self.cube[self.back][2]\n",
        "        self.cube[self.back][2] = self.cube[self.left][2]\n",
        "        return self.cube\n",
        "\n",
        "\n",
        "    def F_rotation(self):\n",
        "        self.Position(\"o\", \"w\", \"g\")\n",
        "        self.cube[self.front] = np.rot90(self.cube[self.front], k=-1)\n",
        "        cell = self.cube[self.up][2]\n",
        "        self.cube[self.up][2] = self.cube[self.left][2]\n",
        "        self.cube[self.left][2] = self.cube[self.down][2]\n",
        "        self.cube[self.down][2] = self.cube[self.right][2]\n",
        "        return self.cube\n",
        "\n",
        "\n",
        "    def B_rotation(self):\n",
        "        self.Position(\"o\", \"w\", \"g\")\n",
        "        self.cube[self.back] = np.rot90(self.cube[self.back], k=-1)\n",
        "\n",
        "\n",
        "\"\"\"\n",
        "# בדיקה\n",
        "x = Cube()\n",
        "print(f\"Orenge senter :\\n {x.o_senter}\\n\")\n",
        "x.U_rotation()\n",
        "print(f\"Orenge senter; U:\\n {x.o_senter}\\n\")\n",
        "x.R_rotation()\n",
        "print(f\"Orenge senter; U --> R:\\n {x.o_senter}\\n\")\n",
        "x.L_rotation()\n",
        "print(f\"Orenge senter; U --> R --> L:\\n {x.o_senter}\\n\")\n",
        "x.D_rotation()\n",
        "print(f\"Orenge senter; U --> R --> L --> D:\\n {x.o_senter}\\n\")\n",
        "x.F_rotation()\n",
        "print(f\"Orenge senter; U --> R --> L --> D --> F:\\n {x.o_senter}\\n\")\n"
      ]
    },
    {
      "cell_type": "code",
      "source": [
        "a = [1,2,3]\n",
        "b = [2,3]\n",
        "print(list(set(a)&set(b)))\n",
        "print(list(set(a)-set(b)))\n",
        "print(list(set(b)-set(a)\n"
      ],
      "metadata": {
        "colab": {
          "base_uri": "https://localhost:8080/"
        },
        "id": "_MAnRUKEB8KU",
        "outputId": "2bb9f3c9-cbcf-4e03-9a76-ff6fa4fe2767"
      },
      "execution_count": 4,
      "outputs": [
        {
          "output_type": "stream",
          "name": "stdout",
          "text": [
            "[2, 3]\n",
            "[1]\n"
          ]
        }
      ]
    },
    {
      "cell_type": "code",
      "source": [],
      "metadata": {
        "id": "mi0BPPOLoUKe"
      },
      "execution_count": null,
      "outputs": []
    }
  ]
}