{
  "nbformat": 4,
  "nbformat_minor": 0,
  "metadata": {
    "colab": {
      "provenance": [],
      "authorship_tag": "ABX9TyPDTVloiroh6ZBkIb1RzKBc",
      "include_colab_link": true
    },
    "kernelspec": {
      "name": "python3",
      "display_name": "Python 3"
    },
    "language_info": {
      "name": "python"
    }
  },
  "cells": [
    {
      "cell_type": "markdown",
      "metadata": {
        "id": "view-in-github",
        "colab_type": "text"
      },
      "source": [
        "<a href=\"https://colab.research.google.com/github/efraimar/pandas_study/blob/main/semple_data_exam.ipynb\" target=\"_parent\"><img src=\"https://colab.research.google.com/assets/colab-badge.svg\" alt=\"Open In Colab\"/></a>"
      ]
    },
    {
      "cell_type": "markdown",
      "source": [
        "#תרגול ב pandas"
      ],
      "metadata": {
        "id": "-QGhwmjezT1Q"
      }
    },
    {
      "cell_type": "code",
      "source": [
        "import pandas as pd\n"
      ],
      "metadata": {
        "id": "YNvRTS3TzY7p"
      },
      "execution_count": 4,
      "outputs": []
    },
    {
      "cell_type": "code",
      "source": [
        "import glob\n",
        "Data_files = glob.glob(\"/content/sample_data/*.csv\")"
      ],
      "metadata": {
        "id": "emz5iXd55CSo"
      },
      "execution_count": 5,
      "outputs": []
    },
    {
      "cell_type": "code",
      "source": [
        "all_df = {}\n",
        "for file in Data_files:\n",
        "  all_df.update({file:pd.read_csv(file)})\n"
      ],
      "metadata": {
        "id": "R-qYvS3O7kcn"
      },
      "execution_count": 6,
      "outputs": []
    },
    {
      "cell_type": "code",
      "source": [
        "all_df.keys()"
      ],
      "metadata": {
        "colab": {
          "base_uri": "https://localhost:8080/"
        },
        "id": "NV9y_tDp7whg",
        "outputId": "b56de110-5341-4e73-f7c8-8e65fa5f8281"
      },
      "execution_count": 10,
      "outputs": [
        {
          "output_type": "execute_result",
          "data": {
            "text/plain": [
              "dict_keys(['/content/sample_data/mnist_test.csv', '/content/sample_data/mnist_train_small.csv', '/content/sample_data/california_housing_test.csv', '/content/sample_data/california_housing_train.csv'])"
            ]
          },
          "metadata": {},
          "execution_count": 10
        }
      ]
    },
    {
      "cell_type": "markdown",
      "source": [
        "#ניתוח מחירי דיור בקליפורניה\n",
        "##טען את הנתונים, נקה אותם ונתח את מחירי הדיור לפי אזור.\n",
        "\n",
        "\n",
        "1. טען את הנתונים\n",
        "2. בדוק האם יש קורלציה בין ההכנסה החציונית למחיר הדיור\n",
        "3.הצג את האזור עם המחיר החציוני הגבוה ביותר.\n",
        "4.צור פילטר למציאת אזורים שבהם המחיר החציוני גדול מ-300,000.\n",
        "5.הצג את הקורלציות בין מספר התושבים באזור (population) למחיר הדיור.\n",
        "\n",
        "\n"
      ],
      "metadata": {
        "id": "kA69f_b0LGhp"
      }
    },
    {
      "cell_type": "code",
      "source": [
        "df_ch_train = all_df['/content/sample_data/california_housing_train.csv'] #1"
      ],
      "metadata": {
        "id": "b-lNN1k48tpl"
      },
      "execution_count": 12,
      "outputs": []
    },
    {
      "cell_type": "code",
      "source": [
        "df_ch_train.columns\n",
        "median_ch_train = df_ch_train['median_house_value']\n",
        "print(median_ch_train.max()) #3"
      ],
      "metadata": {
        "colab": {
          "base_uri": "https://localhost:8080/"
        },
        "id": "TeptbgVFKubb",
        "outputId": "47a21256-499e-46f7-896a-8dc8675e1dda"
      },
      "execution_count": 19,
      "outputs": [
        {
          "output_type": "stream",
          "name": "stdout",
          "text": [
            "500001.0\n"
          ]
        }
      ]
    },
    {
      "cell_type": "code",
      "source": [
        "median_ch_train.corr(df_ch_train['median_house_value']) # 2"
      ],
      "metadata": {
        "colab": {
          "base_uri": "https://localhost:8080/"
        },
        "id": "Egh7cuJTVIZz",
        "outputId": "0591c17f-d6d7-4b48-cc9f-964a5e90eaf2"
      },
      "execution_count": 20,
      "outputs": [
        {
          "output_type": "execute_result",
          "data": {
            "text/plain": [
              "1.0"
            ]
          },
          "metadata": {},
          "execution_count": 20
        }
      ]
    },
    {
      "cell_type": "markdown",
      "source": [
        "קיבלנו 1.0 שזה אומר שיש קורולציה חיובית."
      ],
      "metadata": {
        "id": "xG1dOi6NV5Wg"
      }
    },
    {
      "cell_type": "code",
      "source": [
        "above_300k = pd.DataFrame(df_ch_train[df_ch_train['median_house_value']>300000]) #4"
      ],
      "metadata": {
        "id": "II2BJ3iFVWFE"
      },
      "execution_count": 37,
      "outputs": []
    },
    {
      "cell_type": "code",
      "source": [
        "above_300k"
      ],
      "metadata": {
        "colab": {
          "base_uri": "https://localhost:8080/",
          "height": 443
        },
        "id": "gUxODy7lXHG_",
        "outputId": "4f6eb486-aa12-4a23-b688-e9622d0e920e"
      },
      "execution_count": 38,
      "outputs": [
        {
          "output_type": "execute_result",
          "data": {
            "text/plain": [
              "       longitude  latitude  housing_median_age  total_rooms  total_bedrooms  \\\n",
              "172      -116.26     33.65                 3.0       7437.0          1222.0   \n",
              "187      -116.33     33.72                11.0      12327.0          2000.0   \n",
              "193      -116.37     33.69                 7.0       8806.0          1542.0   \n",
              "210      -116.42     33.76                14.0      16921.0          2837.0   \n",
              "215      -116.43     33.75                24.0       2596.0           438.0   \n",
              "...          ...       ...                 ...          ...             ...   \n",
              "16642    -122.73     38.26                35.0       3941.0           645.0   \n",
              "16672    -122.78     38.44                14.0       4143.0           656.0   \n",
              "16694    -122.82     38.44                23.0       1551.0           236.0   \n",
              "16715    -122.85     38.37                16.0       1762.0           293.0   \n",
              "16776    -123.00     38.33                 8.0       3223.0           637.0   \n",
              "\n",
              "       population  households  median_income  median_house_value  \n",
              "172         574.0       302.0        10.2948            382400.0  \n",
              "187        2450.0      1139.0         7.4382            353100.0  \n",
              "193         858.0       448.0         7.8005            318100.0  \n",
              "210        2524.0      1262.0         7.6281            341700.0  \n",
              "215         473.0       237.0         3.7727            500001.0  \n",
              "...           ...         ...            ...                 ...  \n",
              "16642      1668.0       620.0         4.3850            317700.0  \n",
              "16672      1569.0       629.0         3.9766            345300.0  \n",
              "16694       555.0       243.0         4.6792            304700.0  \n",
              "16715       810.0       297.0         4.4437            305000.0  \n",
              "16776       851.0       418.0         5.6445            364800.0  \n",
              "\n",
              "[3187 rows x 9 columns]"
            ],
            "text/html": [
              "\n",
              "  <div id=\"df-b82288da-ba90-4712-85b6-79d50c157f37\" class=\"colab-df-container\">\n",
              "    <div>\n",
              "<style scoped>\n",
              "    .dataframe tbody tr th:only-of-type {\n",
              "        vertical-align: middle;\n",
              "    }\n",
              "\n",
              "    .dataframe tbody tr th {\n",
              "        vertical-align: top;\n",
              "    }\n",
              "\n",
              "    .dataframe thead th {\n",
              "        text-align: right;\n",
              "    }\n",
              "</style>\n",
              "<table border=\"1\" class=\"dataframe\">\n",
              "  <thead>\n",
              "    <tr style=\"text-align: right;\">\n",
              "      <th></th>\n",
              "      <th>longitude</th>\n",
              "      <th>latitude</th>\n",
              "      <th>housing_median_age</th>\n",
              "      <th>total_rooms</th>\n",
              "      <th>total_bedrooms</th>\n",
              "      <th>population</th>\n",
              "      <th>households</th>\n",
              "      <th>median_income</th>\n",
              "      <th>median_house_value</th>\n",
              "    </tr>\n",
              "  </thead>\n",
              "  <tbody>\n",
              "    <tr>\n",
              "      <th>172</th>\n",
              "      <td>-116.26</td>\n",
              "      <td>33.65</td>\n",
              "      <td>3.0</td>\n",
              "      <td>7437.0</td>\n",
              "      <td>1222.0</td>\n",
              "      <td>574.0</td>\n",
              "      <td>302.0</td>\n",
              "      <td>10.2948</td>\n",
              "      <td>382400.0</td>\n",
              "    </tr>\n",
              "    <tr>\n",
              "      <th>187</th>\n",
              "      <td>-116.33</td>\n",
              "      <td>33.72</td>\n",
              "      <td>11.0</td>\n",
              "      <td>12327.0</td>\n",
              "      <td>2000.0</td>\n",
              "      <td>2450.0</td>\n",
              "      <td>1139.0</td>\n",
              "      <td>7.4382</td>\n",
              "      <td>353100.0</td>\n",
              "    </tr>\n",
              "    <tr>\n",
              "      <th>193</th>\n",
              "      <td>-116.37</td>\n",
              "      <td>33.69</td>\n",
              "      <td>7.0</td>\n",
              "      <td>8806.0</td>\n",
              "      <td>1542.0</td>\n",
              "      <td>858.0</td>\n",
              "      <td>448.0</td>\n",
              "      <td>7.8005</td>\n",
              "      <td>318100.0</td>\n",
              "    </tr>\n",
              "    <tr>\n",
              "      <th>210</th>\n",
              "      <td>-116.42</td>\n",
              "      <td>33.76</td>\n",
              "      <td>14.0</td>\n",
              "      <td>16921.0</td>\n",
              "      <td>2837.0</td>\n",
              "      <td>2524.0</td>\n",
              "      <td>1262.0</td>\n",
              "      <td>7.6281</td>\n",
              "      <td>341700.0</td>\n",
              "    </tr>\n",
              "    <tr>\n",
              "      <th>215</th>\n",
              "      <td>-116.43</td>\n",
              "      <td>33.75</td>\n",
              "      <td>24.0</td>\n",
              "      <td>2596.0</td>\n",
              "      <td>438.0</td>\n",
              "      <td>473.0</td>\n",
              "      <td>237.0</td>\n",
              "      <td>3.7727</td>\n",
              "      <td>500001.0</td>\n",
              "    </tr>\n",
              "    <tr>\n",
              "      <th>...</th>\n",
              "      <td>...</td>\n",
              "      <td>...</td>\n",
              "      <td>...</td>\n",
              "      <td>...</td>\n",
              "      <td>...</td>\n",
              "      <td>...</td>\n",
              "      <td>...</td>\n",
              "      <td>...</td>\n",
              "      <td>...</td>\n",
              "    </tr>\n",
              "    <tr>\n",
              "      <th>16642</th>\n",
              "      <td>-122.73</td>\n",
              "      <td>38.26</td>\n",
              "      <td>35.0</td>\n",
              "      <td>3941.0</td>\n",
              "      <td>645.0</td>\n",
              "      <td>1668.0</td>\n",
              "      <td>620.0</td>\n",
              "      <td>4.3850</td>\n",
              "      <td>317700.0</td>\n",
              "    </tr>\n",
              "    <tr>\n",
              "      <th>16672</th>\n",
              "      <td>-122.78</td>\n",
              "      <td>38.44</td>\n",
              "      <td>14.0</td>\n",
              "      <td>4143.0</td>\n",
              "      <td>656.0</td>\n",
              "      <td>1569.0</td>\n",
              "      <td>629.0</td>\n",
              "      <td>3.9766</td>\n",
              "      <td>345300.0</td>\n",
              "    </tr>\n",
              "    <tr>\n",
              "      <th>16694</th>\n",
              "      <td>-122.82</td>\n",
              "      <td>38.44</td>\n",
              "      <td>23.0</td>\n",
              "      <td>1551.0</td>\n",
              "      <td>236.0</td>\n",
              "      <td>555.0</td>\n",
              "      <td>243.0</td>\n",
              "      <td>4.6792</td>\n",
              "      <td>304700.0</td>\n",
              "    </tr>\n",
              "    <tr>\n",
              "      <th>16715</th>\n",
              "      <td>-122.85</td>\n",
              "      <td>38.37</td>\n",
              "      <td>16.0</td>\n",
              "      <td>1762.0</td>\n",
              "      <td>293.0</td>\n",
              "      <td>810.0</td>\n",
              "      <td>297.0</td>\n",
              "      <td>4.4437</td>\n",
              "      <td>305000.0</td>\n",
              "    </tr>\n",
              "    <tr>\n",
              "      <th>16776</th>\n",
              "      <td>-123.00</td>\n",
              "      <td>38.33</td>\n",
              "      <td>8.0</td>\n",
              "      <td>3223.0</td>\n",
              "      <td>637.0</td>\n",
              "      <td>851.0</td>\n",
              "      <td>418.0</td>\n",
              "      <td>5.6445</td>\n",
              "      <td>364800.0</td>\n",
              "    </tr>\n",
              "  </tbody>\n",
              "</table>\n",
              "<p>3187 rows × 9 columns</p>\n",
              "</div>\n",
              "    <div class=\"colab-df-buttons\">\n",
              "\n",
              "  <div class=\"colab-df-container\">\n",
              "    <button class=\"colab-df-convert\" onclick=\"convertToInteractive('df-b82288da-ba90-4712-85b6-79d50c157f37')\"\n",
              "            title=\"Convert this dataframe to an interactive table.\"\n",
              "            style=\"display:none;\">\n",
              "\n",
              "  <svg xmlns=\"http://www.w3.org/2000/svg\" height=\"24px\" viewBox=\"0 -960 960 960\">\n",
              "    <path d=\"M120-120v-720h720v720H120Zm60-500h600v-160H180v160Zm220 220h160v-160H400v160Zm0 220h160v-160H400v160ZM180-400h160v-160H180v160Zm440 0h160v-160H620v160ZM180-180h160v-160H180v160Zm440 0h160v-160H620v160Z\"/>\n",
              "  </svg>\n",
              "    </button>\n",
              "\n",
              "  <style>\n",
              "    .colab-df-container {\n",
              "      display:flex;\n",
              "      gap: 12px;\n",
              "    }\n",
              "\n",
              "    .colab-df-convert {\n",
              "      background-color: #E8F0FE;\n",
              "      border: none;\n",
              "      border-radius: 50%;\n",
              "      cursor: pointer;\n",
              "      display: none;\n",
              "      fill: #1967D2;\n",
              "      height: 32px;\n",
              "      padding: 0 0 0 0;\n",
              "      width: 32px;\n",
              "    }\n",
              "\n",
              "    .colab-df-convert:hover {\n",
              "      background-color: #E2EBFA;\n",
              "      box-shadow: 0px 1px 2px rgba(60, 64, 67, 0.3), 0px 1px 3px 1px rgba(60, 64, 67, 0.15);\n",
              "      fill: #174EA6;\n",
              "    }\n",
              "\n",
              "    .colab-df-buttons div {\n",
              "      margin-bottom: 4px;\n",
              "    }\n",
              "\n",
              "    [theme=dark] .colab-df-convert {\n",
              "      background-color: #3B4455;\n",
              "      fill: #D2E3FC;\n",
              "    }\n",
              "\n",
              "    [theme=dark] .colab-df-convert:hover {\n",
              "      background-color: #434B5C;\n",
              "      box-shadow: 0px 1px 3px 1px rgba(0, 0, 0, 0.15);\n",
              "      filter: drop-shadow(0px 1px 2px rgba(0, 0, 0, 0.3));\n",
              "      fill: #FFFFFF;\n",
              "    }\n",
              "  </style>\n",
              "\n",
              "    <script>\n",
              "      const buttonEl =\n",
              "        document.querySelector('#df-b82288da-ba90-4712-85b6-79d50c157f37 button.colab-df-convert');\n",
              "      buttonEl.style.display =\n",
              "        google.colab.kernel.accessAllowed ? 'block' : 'none';\n",
              "\n",
              "      async function convertToInteractive(key) {\n",
              "        const element = document.querySelector('#df-b82288da-ba90-4712-85b6-79d50c157f37');\n",
              "        const dataTable =\n",
              "          await google.colab.kernel.invokeFunction('convertToInteractive',\n",
              "                                                    [key], {});\n",
              "        if (!dataTable) return;\n",
              "\n",
              "        const docLinkHtml = 'Like what you see? Visit the ' +\n",
              "          '<a target=\"_blank\" href=https://colab.research.google.com/notebooks/data_table.ipynb>data table notebook</a>'\n",
              "          + ' to learn more about interactive tables.';\n",
              "        element.innerHTML = '';\n",
              "        dataTable['output_type'] = 'display_data';\n",
              "        await google.colab.output.renderOutput(dataTable, element);\n",
              "        const docLink = document.createElement('div');\n",
              "        docLink.innerHTML = docLinkHtml;\n",
              "        element.appendChild(docLink);\n",
              "      }\n",
              "    </script>\n",
              "  </div>\n",
              "\n",
              "\n",
              "<div id=\"df-25c485c6-d658-4ef1-9af3-f2d1022aed22\">\n",
              "  <button class=\"colab-df-quickchart\" onclick=\"quickchart('df-25c485c6-d658-4ef1-9af3-f2d1022aed22')\"\n",
              "            title=\"Suggest charts\"\n",
              "            style=\"display:none;\">\n",
              "\n",
              "<svg xmlns=\"http://www.w3.org/2000/svg\" height=\"24px\"viewBox=\"0 0 24 24\"\n",
              "     width=\"24px\">\n",
              "    <g>\n",
              "        <path d=\"M19 3H5c-1.1 0-2 .9-2 2v14c0 1.1.9 2 2 2h14c1.1 0 2-.9 2-2V5c0-1.1-.9-2-2-2zM9 17H7v-7h2v7zm4 0h-2V7h2v10zm4 0h-2v-4h2v4z\"/>\n",
              "    </g>\n",
              "</svg>\n",
              "  </button>\n",
              "\n",
              "<style>\n",
              "  .colab-df-quickchart {\n",
              "      --bg-color: #E8F0FE;\n",
              "      --fill-color: #1967D2;\n",
              "      --hover-bg-color: #E2EBFA;\n",
              "      --hover-fill-color: #174EA6;\n",
              "      --disabled-fill-color: #AAA;\n",
              "      --disabled-bg-color: #DDD;\n",
              "  }\n",
              "\n",
              "  [theme=dark] .colab-df-quickchart {\n",
              "      --bg-color: #3B4455;\n",
              "      --fill-color: #D2E3FC;\n",
              "      --hover-bg-color: #434B5C;\n",
              "      --hover-fill-color: #FFFFFF;\n",
              "      --disabled-bg-color: #3B4455;\n",
              "      --disabled-fill-color: #666;\n",
              "  }\n",
              "\n",
              "  .colab-df-quickchart {\n",
              "    background-color: var(--bg-color);\n",
              "    border: none;\n",
              "    border-radius: 50%;\n",
              "    cursor: pointer;\n",
              "    display: none;\n",
              "    fill: var(--fill-color);\n",
              "    height: 32px;\n",
              "    padding: 0;\n",
              "    width: 32px;\n",
              "  }\n",
              "\n",
              "  .colab-df-quickchart:hover {\n",
              "    background-color: var(--hover-bg-color);\n",
              "    box-shadow: 0 1px 2px rgba(60, 64, 67, 0.3), 0 1px 3px 1px rgba(60, 64, 67, 0.15);\n",
              "    fill: var(--button-hover-fill-color);\n",
              "  }\n",
              "\n",
              "  .colab-df-quickchart-complete:disabled,\n",
              "  .colab-df-quickchart-complete:disabled:hover {\n",
              "    background-color: var(--disabled-bg-color);\n",
              "    fill: var(--disabled-fill-color);\n",
              "    box-shadow: none;\n",
              "  }\n",
              "\n",
              "  .colab-df-spinner {\n",
              "    border: 2px solid var(--fill-color);\n",
              "    border-color: transparent;\n",
              "    border-bottom-color: var(--fill-color);\n",
              "    animation:\n",
              "      spin 1s steps(1) infinite;\n",
              "  }\n",
              "\n",
              "  @keyframes spin {\n",
              "    0% {\n",
              "      border-color: transparent;\n",
              "      border-bottom-color: var(--fill-color);\n",
              "      border-left-color: var(--fill-color);\n",
              "    }\n",
              "    20% {\n",
              "      border-color: transparent;\n",
              "      border-left-color: var(--fill-color);\n",
              "      border-top-color: var(--fill-color);\n",
              "    }\n",
              "    30% {\n",
              "      border-color: transparent;\n",
              "      border-left-color: var(--fill-color);\n",
              "      border-top-color: var(--fill-color);\n",
              "      border-right-color: var(--fill-color);\n",
              "    }\n",
              "    40% {\n",
              "      border-color: transparent;\n",
              "      border-right-color: var(--fill-color);\n",
              "      border-top-color: var(--fill-color);\n",
              "    }\n",
              "    60% {\n",
              "      border-color: transparent;\n",
              "      border-right-color: var(--fill-color);\n",
              "    }\n",
              "    80% {\n",
              "      border-color: transparent;\n",
              "      border-right-color: var(--fill-color);\n",
              "      border-bottom-color: var(--fill-color);\n",
              "    }\n",
              "    90% {\n",
              "      border-color: transparent;\n",
              "      border-bottom-color: var(--fill-color);\n",
              "    }\n",
              "  }\n",
              "</style>\n",
              "\n",
              "  <script>\n",
              "    async function quickchart(key) {\n",
              "      const quickchartButtonEl =\n",
              "        document.querySelector('#' + key + ' button');\n",
              "      quickchartButtonEl.disabled = true;  // To prevent multiple clicks.\n",
              "      quickchartButtonEl.classList.add('colab-df-spinner');\n",
              "      try {\n",
              "        const charts = await google.colab.kernel.invokeFunction(\n",
              "            'suggestCharts', [key], {});\n",
              "      } catch (error) {\n",
              "        console.error('Error during call to suggestCharts:', error);\n",
              "      }\n",
              "      quickchartButtonEl.classList.remove('colab-df-spinner');\n",
              "      quickchartButtonEl.classList.add('colab-df-quickchart-complete');\n",
              "    }\n",
              "    (() => {\n",
              "      let quickchartButtonEl =\n",
              "        document.querySelector('#df-25c485c6-d658-4ef1-9af3-f2d1022aed22 button');\n",
              "      quickchartButtonEl.style.display =\n",
              "        google.colab.kernel.accessAllowed ? 'block' : 'none';\n",
              "    })();\n",
              "  </script>\n",
              "</div>\n",
              "\n",
              "  <div id=\"id_8e4acab9-86a3-427a-b72e-db1995706cf8\">\n",
              "    <style>\n",
              "      .colab-df-generate {\n",
              "        background-color: #E8F0FE;\n",
              "        border: none;\n",
              "        border-radius: 50%;\n",
              "        cursor: pointer;\n",
              "        display: none;\n",
              "        fill: #1967D2;\n",
              "        height: 32px;\n",
              "        padding: 0 0 0 0;\n",
              "        width: 32px;\n",
              "      }\n",
              "\n",
              "      .colab-df-generate:hover {\n",
              "        background-color: #E2EBFA;\n",
              "        box-shadow: 0px 1px 2px rgba(60, 64, 67, 0.3), 0px 1px 3px 1px rgba(60, 64, 67, 0.15);\n",
              "        fill: #174EA6;\n",
              "      }\n",
              "\n",
              "      [theme=dark] .colab-df-generate {\n",
              "        background-color: #3B4455;\n",
              "        fill: #D2E3FC;\n",
              "      }\n",
              "\n",
              "      [theme=dark] .colab-df-generate:hover {\n",
              "        background-color: #434B5C;\n",
              "        box-shadow: 0px 1px 3px 1px rgba(0, 0, 0, 0.15);\n",
              "        filter: drop-shadow(0px 1px 2px rgba(0, 0, 0, 0.3));\n",
              "        fill: #FFFFFF;\n",
              "      }\n",
              "    </style>\n",
              "    <button class=\"colab-df-generate\" onclick=\"generateWithVariable('above_300k')\"\n",
              "            title=\"Generate code using this dataframe.\"\n",
              "            style=\"display:none;\">\n",
              "\n",
              "  <svg xmlns=\"http://www.w3.org/2000/svg\" height=\"24px\"viewBox=\"0 0 24 24\"\n",
              "       width=\"24px\">\n",
              "    <path d=\"M7,19H8.4L18.45,9,17,7.55,7,17.6ZM5,21V16.75L18.45,3.32a2,2,0,0,1,2.83,0l1.4,1.43a1.91,1.91,0,0,1,.58,1.4,1.91,1.91,0,0,1-.58,1.4L9.25,21ZM18.45,9,17,7.55Zm-12,3A5.31,5.31,0,0,0,4.9,8.1,5.31,5.31,0,0,0,1,6.5,5.31,5.31,0,0,0,4.9,4.9,5.31,5.31,0,0,0,6.5,1,5.31,5.31,0,0,0,8.1,4.9,5.31,5.31,0,0,0,12,6.5,5.46,5.46,0,0,0,6.5,12Z\"/>\n",
              "  </svg>\n",
              "    </button>\n",
              "    <script>\n",
              "      (() => {\n",
              "      const buttonEl =\n",
              "        document.querySelector('#id_8e4acab9-86a3-427a-b72e-db1995706cf8 button.colab-df-generate');\n",
              "      buttonEl.style.display =\n",
              "        google.colab.kernel.accessAllowed ? 'block' : 'none';\n",
              "\n",
              "      buttonEl.onclick = () => {\n",
              "        google.colab.notebook.generateWithVariable('above_300k');\n",
              "      }\n",
              "      })();\n",
              "    </script>\n",
              "  </div>\n",
              "\n",
              "    </div>\n",
              "  </div>\n"
            ],
            "application/vnd.google.colaboratory.intrinsic+json": {
              "type": "dataframe",
              "variable_name": "above_300k",
              "summary": "{\n  \"name\": \"above_300k\",\n  \"rows\": 3187,\n  \"fields\": [\n    {\n      \"column\": \"longitude\",\n      \"properties\": {\n        \"dtype\": \"number\",\n        \"std\": 2.0032339653428464,\n        \"min\": -123.0,\n        \"max\": -116.26,\n        \"num_unique_values\": 388,\n        \"samples\": [\n          -121.5,\n          -117.36,\n          -118.74\n        ],\n        \"semantic_type\": \"\",\n        \"description\": \"\"\n      }\n    },\n    {\n      \"column\": \"latitude\",\n      \"properties\": {\n        \"dtype\": \"number\",\n        \"std\": 1.8579796326093876,\n        \"min\": 32.63,\n        \"max\": 39.19,\n        \"num_unique_values\": 356,\n        \"samples\": [\n          37.3,\n          33.34,\n          37.27\n        ],\n        \"semantic_type\": \"\",\n        \"description\": \"\"\n      }\n    },\n    {\n      \"column\": \"housing_median_age\",\n      \"properties\": {\n        \"dtype\": \"number\",\n        \"std\": 13.369963008615231,\n        \"min\": 2.0,\n        \"max\": 52.0,\n        \"num_unique_values\": 51,\n        \"samples\": [\n          31.0,\n          32.0,\n          2.0\n        ],\n        \"semantic_type\": \"\",\n        \"description\": \"\"\n      }\n    },\n    {\n      \"column\": \"total_rooms\",\n      \"properties\": {\n        \"dtype\": \"number\",\n        \"std\": 2466.1517853980395,\n        \"min\": 8.0,\n        \"max\": 37937.0,\n        \"num_unique_values\": 2357,\n        \"samples\": [\n          4910.0,\n          1534.0,\n          1961.0\n        ],\n        \"semantic_type\": \"\",\n        \"description\": \"\"\n      }\n    },\n    {\n      \"column\": \"total_bedrooms\",\n      \"properties\": {\n        \"dtype\": \"number\",\n        \"std\": 427.6283494307489,\n        \"min\": 1.0,\n        \"max\": 5471.0,\n        \"num_unique_values\": 1131,\n        \"samples\": [\n          2473.0,\n          1382.0,\n          239.0\n        ],\n        \"semantic_type\": \"\",\n        \"description\": \"\"\n      }\n    },\n    {\n      \"column\": \"population\",\n      \"properties\": {\n        \"dtype\": \"number\",\n        \"std\": 1074.879259606556,\n        \"min\": 3.0,\n        \"max\": 16122.0,\n        \"num_unique_values\": 1746,\n        \"samples\": [\n          34.0,\n          808.0,\n          1351.0\n        ],\n        \"semantic_type\": \"\",\n        \"description\": \"\"\n      }\n    },\n    {\n      \"column\": \"households\",\n      \"properties\": {\n        \"dtype\": \"number\",\n        \"std\": 394.20623295120123,\n        \"min\": 1.0,\n        \"max\": 5189.0,\n        \"num_unique_values\": 1074,\n        \"samples\": [\n          331.0,\n          641.0,\n          670.0\n        ],\n        \"semantic_type\": \"\",\n        \"description\": \"\"\n      }\n    },\n    {\n      \"column\": \"median_income\",\n      \"properties\": {\n        \"dtype\": \"number\",\n        \"std\": 2.500282539390473,\n        \"min\": 0.4999,\n        \"max\": 15.0001,\n        \"num_unique_values\": 2938,\n        \"samples\": [\n          6.6959,\n          6.0948,\n          4.2283\n        ],\n        \"semantic_type\": \"\",\n        \"description\": \"\"\n      }\n    },\n    {\n      \"column\": \"median_house_value\",\n      \"properties\": {\n        \"dtype\": \"number\",\n        \"std\": 71100.93640685582,\n        \"min\": 300300.0,\n        \"max\": 500001.0,\n        \"num_unique_values\": 1177,\n        \"samples\": [\n          326500.0,\n          483100.0,\n          342200.0\n        ],\n        \"semantic_type\": \"\",\n        \"description\": \"\"\n      }\n    }\n  ]\n}"
            }
          },
          "metadata": {},
          "execution_count": 38
        }
      ]
    },
    {
      "cell_type": "code",
      "source": [
        "df_ch_train[\"population\"].corr(df_ch_train['median_house_value']) #5"
      ],
      "metadata": {
        "colab": {
          "base_uri": "https://localhost:8080/"
        },
        "id": "vU_0KOHAXJ05",
        "outputId": "2a15e166-3ee8-47e6-9b01-5b650cdf76b5"
      },
      "execution_count": 39,
      "outputs": [
        {
          "output_type": "execute_result",
          "data": {
            "text/plain": [
              "-0.027850061120898374"
            ]
          },
          "metadata": {},
          "execution_count": 39
        }
      ]
    },
    {
      "cell_type": "markdown",
      "source": [
        "קיבלנו ערך אפסי , שזה אומר שאין קורולציה בכלל."
      ],
      "metadata": {
        "id": "37KIJjEQdRbW"
      }
    }
  ]
}